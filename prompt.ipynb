{
 "cells": [
  {
   "cell_type": "markdown",
   "metadata": {
    "id": "CcUT6Fon_qRE"
   },
   "source": [
    "### Required Assignment 5.1: Will the Customer Accept the Coupon?\n",
    "\n",
    "**Context**\n",
    "\n",
    "Imagine driving through town and a coupon is delivered to your cell phone for a restaurant near where you are driving. Would you accept that coupon and take a short detour to the restaurant? Would you accept the coupon but use it on a subsequent trip? Would you ignore the coupon entirely? What if the coupon was for a bar instead of a restaurant? What about a coffee house? Would you accept a bar coupon with a minor passenger in the car? What about if it was just you and your partner in the car? Would weather impact the rate of acceptance? What about the time of day?\n",
    "\n",
    "Obviously, proximity to the business is a factor on whether the coupon is delivered to the driver or not, but what are the factors that determine whether a driver accepts the coupon once it is delivered to them? How would you determine whether a driver is likely to accept a coupon?\n",
    "\n",
    "**Overview**\n",
    "\n",
    "The goal of this project is to use what you know about visualizations and probability distributions to distinguish between customers who accepted a driving coupon versus those that did not.\n",
    "\n",
    "**Data**\n",
    "\n",
    "This data comes to us from the UCI Machine Learning repository and was collected via a survey on Amazon Mechanical Turk. The survey describes different driving scenarios including the destination, current time, weather, passenger, etc., and then ask the person whether he will accept the coupon if he is the driver. Answers that the user will drive there ‘right away’ or ‘later before the coupon expires’ are labeled as ‘Y = 1’ and answers ‘no, I do not want the coupon’ are labeled as ‘Y = 0’.  There are five different types of coupons -- less expensive restaurants (under \\$20), coffee houses, carry out & take away, bar, and more expensive restaurants (\\$20 - $50)."
   ]
  },
  {
   "cell_type": "markdown",
   "metadata": {
    "id": "1wORvMBJ_qRF"
   },
   "source": [
    "**Deliverables**\n",
    "\n",
    "Your final product should be a brief report that highlights the differences between customers who did and did not accept the coupons.  To explore the data you will utilize your knowledge of plotting, statistical summaries, and visualization using Python. You will publish your findings in a public facing github repository as your first portfolio piece.\n",
    "\n",
    "\n",
    "\n"
   ]
  },
  {
   "cell_type": "markdown",
   "metadata": {
    "id": "pG6_Ym6q_qRG"
   },
   "source": [
    "### Data Description\n",
    "Keep in mind that these values mentioned below are average values.\n",
    "\n",
    "The attributes of this data set include:\n",
    "1. User attributes\n",
    "    -  Gender: male, female\n",
    "    -  Age: below 21, 21 to 25, 26 to 30, etc.\n",
    "    -  Marital Status: single, married partner, unmarried partner, or widowed\n",
    "    -  Number of children: 0, 1, or more than 1\n",
    "    -  Education: high school, bachelors degree, associates degree, or graduate degree\n",
    "    -  Occupation: architecture & engineering, business & financial, etc.\n",
    "    -  Annual income: less than \\\\$12500, \\\\$12500 - \\\\$24999, \\\\$25000 - \\\\$37499, etc.\n",
    "    -  Number of times that he/she goes to a bar: 0, less than 1, 1 to 3, 4 to 8 or greater than 8\n",
    "    -  Number of times that he/she buys takeaway food: 0, less than 1, 1 to 3, 4 to 8 or greater\n",
    "    than 8\n",
    "    -  Number of times that he/she goes to a coffee house: 0, less than 1, 1 to 3, 4 to 8 or\n",
    "    greater than 8\n",
    "    -  Number of times that he/she eats at a restaurant with average expense less than \\\\$20 per\n",
    "    person: 0, less than 1, 1 to 3, 4 to 8 or greater than 8\n",
    "    -  Number of times that he/she goes to a bar: 0, less than 1, 1 to 3, 4 to 8 or greater than 8\n",
    "    \n",
    "\n",
    "2. Contextual attributes\n",
    "    - Driving destination: home, work, or no urgent destination\n",
    "    - Location of user, coupon and destination: we provide a map to show the geographical\n",
    "    location of the user, destination, and the venue, and we mark the distance between each\n",
    "    two places with time of driving. The user can see whether the venue is in the same\n",
    "    direction as the destination.\n",
    "    - Weather: sunny, rainy, or snowy\n",
    "    - Temperature: 30F, 55F, or 80F\n",
    "    - Time: 10AM, 2PM, or 6PM\n",
    "    - Passenger: alone, partner, kid(s), or friend(s)\n",
    "\n",
    "\n",
    "3. Coupon attributes\n",
    "    - time before it expires: 2 hours or one day"
   ]
  },
  {
   "cell_type": "code",
   "execution_count": 1,
   "metadata": {
    "id": "dzNoP3o__qRG"
   },
   "outputs": [],
   "source": [
    "import matplotlib.pyplot as plt\n",
    "import seaborn as sns\n",
    "import pandas as pd\n",
    "import numpy as np"
   ]
  },
  {
   "cell_type": "markdown",
   "metadata": {
    "id": "Ct8pI1uE_qRG"
   },
   "source": [
    "### Problems\n",
    "\n",
    "Use the prompts below to get started with your data analysis.  \n",
    "\n",
    "1. Read in the `coupons.csv` file.\n",
    "\n",
    "\n"
   ]
  },
  {
   "cell_type": "code",
   "execution_count": 167,
   "metadata": {
    "id": "X0vbffYg_qRH"
   },
   "outputs": [],
   "source": [
    "data = pd.read_csv('data/coupons.csv')\n",
    "pd.set_option('display.max_columns', None)"
   ]
  },
  {
   "cell_type": "code",
   "execution_count": 168,
   "metadata": {
    "id": "TXofQ_DF_qRH",
    "outputId": "2fc96a2c-1112-4b54-f24f-dbb9bc88abfb"
   },
   "outputs": [
    {
     "data": {
      "text/html": [
       "<div>\n",
       "<style scoped>\n",
       "    .dataframe tbody tr th:only-of-type {\n",
       "        vertical-align: middle;\n",
       "    }\n",
       "\n",
       "    .dataframe tbody tr th {\n",
       "        vertical-align: top;\n",
       "    }\n",
       "\n",
       "    .dataframe thead th {\n",
       "        text-align: right;\n",
       "    }\n",
       "</style>\n",
       "<table border=\"1\" class=\"dataframe\">\n",
       "  <thead>\n",
       "    <tr style=\"text-align: right;\">\n",
       "      <th></th>\n",
       "      <th>destination</th>\n",
       "      <th>passanger</th>\n",
       "      <th>weather</th>\n",
       "      <th>temperature</th>\n",
       "      <th>time</th>\n",
       "      <th>coupon</th>\n",
       "      <th>expiration</th>\n",
       "      <th>gender</th>\n",
       "      <th>age</th>\n",
       "      <th>maritalStatus</th>\n",
       "      <th>has_children</th>\n",
       "      <th>education</th>\n",
       "      <th>occupation</th>\n",
       "      <th>income</th>\n",
       "      <th>car</th>\n",
       "      <th>Bar</th>\n",
       "      <th>CoffeeHouse</th>\n",
       "      <th>CarryAway</th>\n",
       "      <th>RestaurantLessThan20</th>\n",
       "      <th>Restaurant20To50</th>\n",
       "      <th>toCoupon_GEQ5min</th>\n",
       "      <th>toCoupon_GEQ15min</th>\n",
       "      <th>toCoupon_GEQ25min</th>\n",
       "      <th>direction_same</th>\n",
       "      <th>direction_opp</th>\n",
       "      <th>Y</th>\n",
       "    </tr>\n",
       "  </thead>\n",
       "  <tbody>\n",
       "    <tr>\n",
       "      <th>0</th>\n",
       "      <td>No Urgent Place</td>\n",
       "      <td>Alone</td>\n",
       "      <td>Sunny</td>\n",
       "      <td>55</td>\n",
       "      <td>2PM</td>\n",
       "      <td>Restaurant(&lt;20)</td>\n",
       "      <td>1d</td>\n",
       "      <td>Female</td>\n",
       "      <td>21</td>\n",
       "      <td>Unmarried partner</td>\n",
       "      <td>1</td>\n",
       "      <td>Some college - no degree</td>\n",
       "      <td>Unemployed</td>\n",
       "      <td>$37500 - $49999</td>\n",
       "      <td>NaN</td>\n",
       "      <td>never</td>\n",
       "      <td>never</td>\n",
       "      <td>NaN</td>\n",
       "      <td>4~8</td>\n",
       "      <td>1~3</td>\n",
       "      <td>1</td>\n",
       "      <td>0</td>\n",
       "      <td>0</td>\n",
       "      <td>0</td>\n",
       "      <td>1</td>\n",
       "      <td>1</td>\n",
       "    </tr>\n",
       "    <tr>\n",
       "      <th>1</th>\n",
       "      <td>No Urgent Place</td>\n",
       "      <td>Friend(s)</td>\n",
       "      <td>Sunny</td>\n",
       "      <td>80</td>\n",
       "      <td>10AM</td>\n",
       "      <td>Coffee House</td>\n",
       "      <td>2h</td>\n",
       "      <td>Female</td>\n",
       "      <td>21</td>\n",
       "      <td>Unmarried partner</td>\n",
       "      <td>1</td>\n",
       "      <td>Some college - no degree</td>\n",
       "      <td>Unemployed</td>\n",
       "      <td>$37500 - $49999</td>\n",
       "      <td>NaN</td>\n",
       "      <td>never</td>\n",
       "      <td>never</td>\n",
       "      <td>NaN</td>\n",
       "      <td>4~8</td>\n",
       "      <td>1~3</td>\n",
       "      <td>1</td>\n",
       "      <td>0</td>\n",
       "      <td>0</td>\n",
       "      <td>0</td>\n",
       "      <td>1</td>\n",
       "      <td>0</td>\n",
       "    </tr>\n",
       "    <tr>\n",
       "      <th>2</th>\n",
       "      <td>No Urgent Place</td>\n",
       "      <td>Friend(s)</td>\n",
       "      <td>Sunny</td>\n",
       "      <td>80</td>\n",
       "      <td>10AM</td>\n",
       "      <td>Carry out &amp; Take away</td>\n",
       "      <td>2h</td>\n",
       "      <td>Female</td>\n",
       "      <td>21</td>\n",
       "      <td>Unmarried partner</td>\n",
       "      <td>1</td>\n",
       "      <td>Some college - no degree</td>\n",
       "      <td>Unemployed</td>\n",
       "      <td>$37500 - $49999</td>\n",
       "      <td>NaN</td>\n",
       "      <td>never</td>\n",
       "      <td>never</td>\n",
       "      <td>NaN</td>\n",
       "      <td>4~8</td>\n",
       "      <td>1~3</td>\n",
       "      <td>1</td>\n",
       "      <td>1</td>\n",
       "      <td>0</td>\n",
       "      <td>0</td>\n",
       "      <td>1</td>\n",
       "      <td>1</td>\n",
       "    </tr>\n",
       "    <tr>\n",
       "      <th>3</th>\n",
       "      <td>No Urgent Place</td>\n",
       "      <td>Friend(s)</td>\n",
       "      <td>Sunny</td>\n",
       "      <td>80</td>\n",
       "      <td>2PM</td>\n",
       "      <td>Coffee House</td>\n",
       "      <td>2h</td>\n",
       "      <td>Female</td>\n",
       "      <td>21</td>\n",
       "      <td>Unmarried partner</td>\n",
       "      <td>1</td>\n",
       "      <td>Some college - no degree</td>\n",
       "      <td>Unemployed</td>\n",
       "      <td>$37500 - $49999</td>\n",
       "      <td>NaN</td>\n",
       "      <td>never</td>\n",
       "      <td>never</td>\n",
       "      <td>NaN</td>\n",
       "      <td>4~8</td>\n",
       "      <td>1~3</td>\n",
       "      <td>1</td>\n",
       "      <td>1</td>\n",
       "      <td>0</td>\n",
       "      <td>0</td>\n",
       "      <td>1</td>\n",
       "      <td>0</td>\n",
       "    </tr>\n",
       "    <tr>\n",
       "      <th>4</th>\n",
       "      <td>No Urgent Place</td>\n",
       "      <td>Friend(s)</td>\n",
       "      <td>Sunny</td>\n",
       "      <td>80</td>\n",
       "      <td>2PM</td>\n",
       "      <td>Coffee House</td>\n",
       "      <td>1d</td>\n",
       "      <td>Female</td>\n",
       "      <td>21</td>\n",
       "      <td>Unmarried partner</td>\n",
       "      <td>1</td>\n",
       "      <td>Some college - no degree</td>\n",
       "      <td>Unemployed</td>\n",
       "      <td>$37500 - $49999</td>\n",
       "      <td>NaN</td>\n",
       "      <td>never</td>\n",
       "      <td>never</td>\n",
       "      <td>NaN</td>\n",
       "      <td>4~8</td>\n",
       "      <td>1~3</td>\n",
       "      <td>1</td>\n",
       "      <td>1</td>\n",
       "      <td>0</td>\n",
       "      <td>0</td>\n",
       "      <td>1</td>\n",
       "      <td>0</td>\n",
       "    </tr>\n",
       "  </tbody>\n",
       "</table>\n",
       "</div>"
      ],
      "text/plain": [
       "       destination  passanger weather  temperature  time  \\\n",
       "0  No Urgent Place      Alone   Sunny           55   2PM   \n",
       "1  No Urgent Place  Friend(s)   Sunny           80  10AM   \n",
       "2  No Urgent Place  Friend(s)   Sunny           80  10AM   \n",
       "3  No Urgent Place  Friend(s)   Sunny           80   2PM   \n",
       "4  No Urgent Place  Friend(s)   Sunny           80   2PM   \n",
       "\n",
       "                  coupon expiration  gender age      maritalStatus  \\\n",
       "0        Restaurant(<20)         1d  Female  21  Unmarried partner   \n",
       "1           Coffee House         2h  Female  21  Unmarried partner   \n",
       "2  Carry out & Take away         2h  Female  21  Unmarried partner   \n",
       "3           Coffee House         2h  Female  21  Unmarried partner   \n",
       "4           Coffee House         1d  Female  21  Unmarried partner   \n",
       "\n",
       "   has_children                 education  occupation           income  car  \\\n",
       "0             1  Some college - no degree  Unemployed  $37500 - $49999  NaN   \n",
       "1             1  Some college - no degree  Unemployed  $37500 - $49999  NaN   \n",
       "2             1  Some college - no degree  Unemployed  $37500 - $49999  NaN   \n",
       "3             1  Some college - no degree  Unemployed  $37500 - $49999  NaN   \n",
       "4             1  Some college - no degree  Unemployed  $37500 - $49999  NaN   \n",
       "\n",
       "     Bar CoffeeHouse CarryAway RestaurantLessThan20 Restaurant20To50  \\\n",
       "0  never       never       NaN                  4~8              1~3   \n",
       "1  never       never       NaN                  4~8              1~3   \n",
       "2  never       never       NaN                  4~8              1~3   \n",
       "3  never       never       NaN                  4~8              1~3   \n",
       "4  never       never       NaN                  4~8              1~3   \n",
       "\n",
       "   toCoupon_GEQ5min  toCoupon_GEQ15min  toCoupon_GEQ25min  direction_same  \\\n",
       "0                 1                  0                  0               0   \n",
       "1                 1                  0                  0               0   \n",
       "2                 1                  1                  0               0   \n",
       "3                 1                  1                  0               0   \n",
       "4                 1                  1                  0               0   \n",
       "\n",
       "   direction_opp  Y  \n",
       "0              1  1  \n",
       "1              1  0  \n",
       "2              1  1  \n",
       "3              1  0  \n",
       "4              1  0  "
      ]
     },
     "execution_count": 168,
     "metadata": {},
     "output_type": "execute_result"
    }
   ],
   "source": [
    "data.head()"
   ]
  },
  {
   "cell_type": "markdown",
   "metadata": {
    "id": "GcDs78ZH_qRH"
   },
   "source": [
    "2. Investigate the dataset for missing or problematic data."
   ]
  },
  {
   "cell_type": "code",
   "execution_count": 13,
   "metadata": {
    "id": "6CwL6oWj_qRH"
   },
   "outputs": [
    {
     "data": {
      "text/plain": [
       "destination                 0\n",
       "passanger                   0\n",
       "weather                     0\n",
       "temperature                 0\n",
       "time                        0\n",
       "coupon                      0\n",
       "expiration                  0\n",
       "gender                      0\n",
       "age                         0\n",
       "maritalStatus               0\n",
       "has_children                0\n",
       "education                   0\n",
       "occupation                  0\n",
       "income                      0\n",
       "car                     12576\n",
       "Bar                       107\n",
       "CoffeeHouse               217\n",
       "CarryAway                 151\n",
       "RestaurantLessThan20      130\n",
       "Restaurant20To50          189\n",
       "toCoupon_GEQ5min            0\n",
       "toCoupon_GEQ15min           0\n",
       "toCoupon_GEQ25min           0\n",
       "direction_same              0\n",
       "direction_opp               0\n",
       "Y                           0\n",
       "dtype: int64"
      ]
     },
     "execution_count": 13,
     "metadata": {},
     "output_type": "execute_result"
    }
   ],
   "source": [
    "data.isnull().sum()\n"
   ]
  },
  {
   "cell_type": "code",
   "execution_count": 88,
   "metadata": {},
   "outputs": [
    {
     "name": "stdout",
     "output_type": "stream",
     "text": [
      "destination: ['No Urgent Place' 'Home' 'Work']\n",
      "passanger: ['Alone' 'Friend(s)' 'Kid(s)' 'Partner']\n",
      "weather: ['Sunny' 'Rainy' 'Snowy']\n",
      "temperature: [55 80 30]\n",
      "time: ['2PM' '10AM' '6PM' '7AM' '10PM']\n",
      "coupon: ['Restaurant(<20)' 'Coffee House' 'Carry out & Take away' 'Bar'\n",
      " 'Restaurant(20-50)']\n",
      "expiration: ['1d' '2h']\n",
      "gender: ['Female' 'Male']\n",
      "age: ['21' '46' '26' '31' '41' '50plus' '36' 'below21']\n",
      "maritalStatus: ['Unmarried partner' 'Single' 'Married partner' 'Divorced' 'Widowed']\n",
      "has_children: [1 0]\n",
      "education: ['Some college - no degree' 'Bachelors degree' 'Associates degree'\n",
      " 'High School Graduate' 'Graduate degree (Masters or Doctorate)'\n",
      " 'Some High School']\n",
      "occupation: ['Unemployed' 'Architecture & Engineering' 'Student'\n",
      " 'Education&Training&Library' 'Healthcare Support'\n",
      " 'Healthcare Practitioners & Technical' 'Sales & Related' 'Management'\n",
      " 'Arts Design Entertainment Sports & Media' 'Computer & Mathematical'\n",
      " 'Life Physical Social Science' 'Personal Care & Service'\n",
      " 'Community & Social Services' 'Office & Administrative Support'\n",
      " 'Construction & Extraction' 'Legal' 'Retired'\n",
      " 'Installation Maintenance & Repair' 'Transportation & Material Moving'\n",
      " 'Business & Financial' 'Protective Service'\n",
      " 'Food Preparation & Serving Related' 'Production Occupations'\n",
      " 'Building & Grounds Cleaning & Maintenance' 'Farming Fishing & Forestry']\n",
      "income: ['$37500 - $49999' '$62500 - $74999' '$12500 - $24999' '$75000 - $87499'\n",
      " '$50000 - $62499' '$25000 - $37499' '$100000 or More' '$87500 - $99999'\n",
      " 'Less than $12500']\n",
      "car: ['do not drive' 'Scooter and motorcycle' 'crossover' 'Mazda5'\n",
      " 'Car that is too old to install Onstar :D']\n",
      "Bar: ['never' 'less1' '1~3' 'gt8' '4~8']\n",
      "CoffeeHouse: ['never' 'less1' '4~8' '1~3' 'gt8']\n",
      "CarryAway: ['never' '4~8' '1~3' 'gt8' 'less1']\n",
      "RestaurantLessThan20: ['4~8' '1~3' 'less1' 'gt8' 'never']\n",
      "Restaurant20To50: ['1~3' 'less1' 'never' 'gt8' '4~8']\n",
      "toCoupon_GEQ5min: [1]\n",
      "toCoupon_GEQ15min: [0 1]\n",
      "toCoupon_GEQ25min: [0 1]\n",
      "direction_same: [0 1]\n",
      "direction_opp: [1 0]\n",
      "Y: [1 0]\n"
     ]
    }
   ],
   "source": [
    "# Check candidates for filling data with null values\n",
    "# data[data.car.notna()]\n",
    "# data.Restaurant20To50.unique()\n",
    "# data[data.RestaurantLessThan20.notna()]\n",
    "\n",
    "# Check if the data is of right datatype\n",
    "data.has_children.unique()\n",
    "for col in data.columns:\n",
    "    print(f\"{col}: {data[col].unique()}\")"
   ]
  },
  {
   "cell_type": "markdown",
   "metadata": {
    "id": "bSdVSpYB_qRH"
   },
   "source": [
    "3. Decide what to do about your missing data -- drop, replace, other..."
   ]
  },
  {
   "cell_type": "code",
   "execution_count": 62,
   "metadata": {
    "id": "tyvoAC5F_qRI"
   },
   "outputs": [
    {
     "name": "stdout",
     "output_type": "stream",
     "text": [
      "['do not drive' 'Scooter and motorcycle' 'crossover' 'Mazda5'\n",
      " 'Car that is too old to install Onstar :D']\n",
      "<class 'pandas.core.frame.DataFrame'>\n",
      "RangeIndex: 12684 entries, 0 to 12683\n",
      "Data columns (total 26 columns):\n",
      " #   Column                Non-Null Count  Dtype \n",
      "---  ------                --------------  ----- \n",
      " 0   destination           12684 non-null  object\n",
      " 1   passanger             12684 non-null  object\n",
      " 2   weather               12684 non-null  object\n",
      " 3   temperature           12684 non-null  int64 \n",
      " 4   time                  12684 non-null  object\n",
      " 5   coupon                12684 non-null  object\n",
      " 6   expiration            12684 non-null  object\n",
      " 7   gender                12684 non-null  object\n",
      " 8   age                   12684 non-null  object\n",
      " 9   maritalStatus         12684 non-null  object\n",
      " 10  has_children          12684 non-null  int64 \n",
      " 11  education             12684 non-null  object\n",
      " 12  occupation            12684 non-null  object\n",
      " 13  income                12684 non-null  object\n",
      " 14  car                   12684 non-null  object\n",
      " 15  Bar                   12684 non-null  object\n",
      " 16  CoffeeHouse           12684 non-null  object\n",
      " 17  CarryAway             12684 non-null  object\n",
      " 18  RestaurantLessThan20  12684 non-null  object\n",
      " 19  Restaurant20To50      12684 non-null  object\n",
      " 20  toCoupon_GEQ5min      12684 non-null  int64 \n",
      " 21  toCoupon_GEQ15min     12684 non-null  int64 \n",
      " 22  toCoupon_GEQ25min     12684 non-null  int64 \n",
      " 23  direction_same        12684 non-null  int64 \n",
      " 24  direction_opp         12684 non-null  int64 \n",
      " 25  Y                     12684 non-null  int64 \n",
      "dtypes: int64(8), object(18)\n",
      "memory usage: 2.5+ MB\n",
      "None\n"
     ]
    }
   ],
   "source": [
    "# Replace all null columns of CoffeeHouse, Bar, CarryAway,RestaurantLessThan20, Restaurant20To50 with \"never\"\n",
    "fill_cols = [\n",
    "    'CoffeeHouse',\n",
    "    'Bar',\n",
    "    'CarryAway',\n",
    "    'RestaurantLessThan20',\n",
    "    'Restaurant20To50'\n",
    "]\n",
    "data.loc[:, fill_cols] = data[fill_cols].fillna(\"never\")\n",
    "\n",
    "# Replace all null columns of car with 'do not drive'\n",
    "data.loc[:, ['car']] = data['car'].fillna(\"do not drive\")\n",
    "\n",
    "# Check the data.\n",
    "print(data.car.unique())\n",
    "print(data.info())\n"
   ]
  },
  {
   "cell_type": "markdown",
   "metadata": {
    "id": "YE6oJbXd_qRI"
   },
   "source": [
    "4. What proportion of the total observations chose to accept the coupon?\n",
    "\n"
   ]
  },
  {
   "cell_type": "code",
   "execution_count": 86,
   "metadata": {
    "id": "86GGqBTv_qRI"
   },
   "outputs": [
    {
     "name": "stdout",
     "output_type": "stream",
     "text": [
      "0.5684326710816777\n"
     ]
    },
    {
     "data": {
      "text/plain": [
       "np.float64(0.5684326710816777)"
      ]
     },
     "execution_count": 86,
     "metadata": {},
     "output_type": "execute_result"
    }
   ],
   "source": [
    "# Percentage of records that chose to accept the coupon\n",
    "accept_percentage = data[data.Y == 1].Y.count() / data.Y.count()\n",
    "print(accept_percentage)\n",
    "data.Y.mean()"
   ]
  },
  {
   "cell_type": "code",
   "execution_count": null,
   "metadata": {},
   "outputs": [],
   "source": []
  },
  {
   "cell_type": "markdown",
   "metadata": {
    "id": "vflz0DoE_qRI"
   },
   "source": [
    "5. Use a bar plot to visualize the `coupon` column."
   ]
  },
  {
   "cell_type": "code",
   "execution_count": 77,
   "metadata": {
    "id": "dHFh3E45_qRI"
   },
   "outputs": [
    {
     "data": {
      "image/png": "[encoded data removed]",
      "text/plain": [
       "<Figure size 700x500 with 1 Axes>"
      ]
     },
     "metadata": {},
     "output_type": "display_data"
    }
   ],
   "source": [
    "y_counts = data['Y'].value_counts().reset_index()\n",
    "y_counts.columns = ['Coupon Accepted (Y)', 'Count']\n",
    "y_counts['Coupon Accepted (Y)'] = y_counts['Coupon Accepted (Y)'].map({\n",
    "    1: 'Accepted (Y=1)', \n",
    "    0: 'Rejected (Y=0)'\n",
    "})\n",
    "\n",
    "# 4. Generate the bar chart\n",
    "plt.figure(figsize=(7, 5))\n",
    "sns.barplot(\n",
    "    x='Coupon Accepted (Y)', \n",
    "    y='Count', \n",
    "    data=y_counts, \n",
    "    palette='viridis',\n",
    "    hue='Coupon Accepted (Y)'\n",
    ")\n",
    "plt.show()"
   ]
  },
  {
   "cell_type": "markdown",
   "metadata": {
    "id": "Qw4lCyx2_qRI"
   },
   "source": [
    "6. Use a histogram to visualize the temperature column."
   ]
  },
  {
   "cell_type": "code",
   "execution_count": 81,
   "metadata": {
    "id": "Yg9Anv71_qRI"
   },
   "outputs": [
    {
     "data": {
      "image/png": "[encoded data removed]",
      "text/plain": [
       "<Figure size 700x500 with 1 Axes>"
      ]
     },
     "metadata": {},
     "output_type": "display_data"
    }
   ],
   "source": [
    "plt.figure(figsize=(7, 5))\n",
    "\n",
    "ax = sns.countplot(\n",
    "    x='temperature', \n",
    "    data=data, \n",
    "    # Ensure bars are ordered numerically (30, 55, 80)\n",
    "    order=sorted(data['temperature'].unique()), \n",
    "    palette='viridis',\n",
    "    hue='temperature'\n",
    ")\n",
    "\n",
    "# Add titles and labels\n",
    "plt.title('Distribution of Ambient Temperature')\n",
    "plt.xlabel('Temperature (Fahrenheit)')\n",
    "plt.ylabel('Count of Records')\n",
    "plt.grid(axis='y', linestyle='--', alpha=0.7)\n",
    "plt.tight_layout()\n",
    "\n",
    "plt.show()"
   ]
  },
  {
   "cell_type": "markdown",
   "metadata": {
    "id": "FupfgeJk_qRJ"
   },
   "source": [
    "**Investigating the Bar Coupons**\n",
    "\n",
    "Now, we will lead you through an exploration of just the bar related coupons.  \n",
    "\n",
    "1. Create a new `DataFrame` that contains just the bar coupons.\n"
   ]
  },
  {
   "cell_type": "code",
   "execution_count": 82,
   "metadata": {
    "id": "tMBlWuGq_qRJ"
   },
   "outputs": [
    {
     "data": {
      "text/html": [
       "<div>\n",
       "<style scoped>\n",
       "    .dataframe tbody tr th:only-of-type {\n",
       "        vertical-align: middle;\n",
       "    }\n",
       "\n",
       "    .dataframe tbody tr th {\n",
       "        vertical-align: top;\n",
       "    }\n",
       "\n",
       "    .dataframe thead th {\n",
       "        text-align: right;\n",
       "    }\n",
       "</style>\n",
       "<table border=\"1\" class=\"dataframe\">\n",
       "  <thead>\n",
       "    <tr style=\"text-align: right;\">\n",
       "      <th></th>\n",
       "      <th>destination</th>\n",
       "      <th>passanger</th>\n",
       "      <th>weather</th>\n",
       "      <th>temperature</th>\n",
       "      <th>time</th>\n",
       "      <th>coupon</th>\n",
       "      <th>expiration</th>\n",
       "      <th>gender</th>\n",
       "      <th>age</th>\n",
       "      <th>maritalStatus</th>\n",
       "      <th>has_children</th>\n",
       "      <th>education</th>\n",
       "      <th>occupation</th>\n",
       "      <th>income</th>\n",
       "      <th>car</th>\n",
       "      <th>Bar</th>\n",
       "      <th>CoffeeHouse</th>\n",
       "      <th>CarryAway</th>\n",
       "      <th>RestaurantLessThan20</th>\n",
       "      <th>Restaurant20To50</th>\n",
       "      <th>toCoupon_GEQ5min</th>\n",
       "      <th>toCoupon_GEQ15min</th>\n",
       "      <th>toCoupon_GEQ25min</th>\n",
       "      <th>direction_same</th>\n",
       "      <th>direction_opp</th>\n",
       "      <th>Y</th>\n",
       "    </tr>\n",
       "  </thead>\n",
       "  <tbody>\n",
       "    <tr>\n",
       "      <th>9</th>\n",
       "      <td>No Urgent Place</td>\n",
       "      <td>Kid(s)</td>\n",
       "      <td>Sunny</td>\n",
       "      <td>80</td>\n",
       "      <td>10AM</td>\n",
       "      <td>Bar</td>\n",
       "      <td>1d</td>\n",
       "      <td>Female</td>\n",
       "      <td>21</td>\n",
       "      <td>Unmarried partner</td>\n",
       "      <td>1</td>\n",
       "      <td>Some college - no degree</td>\n",
       "      <td>Unemployed</td>\n",
       "      <td>$37500 - $49999</td>\n",
       "      <td>do not drive</td>\n",
       "      <td>never</td>\n",
       "      <td>never</td>\n",
       "      <td>never</td>\n",
       "      <td>4~8</td>\n",
       "      <td>1~3</td>\n",
       "      <td>1</td>\n",
       "      <td>1</td>\n",
       "      <td>0</td>\n",
       "      <td>0</td>\n",
       "      <td>1</td>\n",
       "      <td>0</td>\n",
       "    </tr>\n",
       "    <tr>\n",
       "      <th>13</th>\n",
       "      <td>Home</td>\n",
       "      <td>Alone</td>\n",
       "      <td>Sunny</td>\n",
       "      <td>55</td>\n",
       "      <td>6PM</td>\n",
       "      <td>Bar</td>\n",
       "      <td>1d</td>\n",
       "      <td>Female</td>\n",
       "      <td>21</td>\n",
       "      <td>Unmarried partner</td>\n",
       "      <td>1</td>\n",
       "      <td>Some college - no degree</td>\n",
       "      <td>Unemployed</td>\n",
       "      <td>$37500 - $49999</td>\n",
       "      <td>do not drive</td>\n",
       "      <td>never</td>\n",
       "      <td>never</td>\n",
       "      <td>never</td>\n",
       "      <td>4~8</td>\n",
       "      <td>1~3</td>\n",
       "      <td>1</td>\n",
       "      <td>0</td>\n",
       "      <td>0</td>\n",
       "      <td>1</td>\n",
       "      <td>0</td>\n",
       "      <td>1</td>\n",
       "    </tr>\n",
       "    <tr>\n",
       "      <th>17</th>\n",
       "      <td>Work</td>\n",
       "      <td>Alone</td>\n",
       "      <td>Sunny</td>\n",
       "      <td>55</td>\n",
       "      <td>7AM</td>\n",
       "      <td>Bar</td>\n",
       "      <td>1d</td>\n",
       "      <td>Female</td>\n",
       "      <td>21</td>\n",
       "      <td>Unmarried partner</td>\n",
       "      <td>1</td>\n",
       "      <td>Some college - no degree</td>\n",
       "      <td>Unemployed</td>\n",
       "      <td>$37500 - $49999</td>\n",
       "      <td>do not drive</td>\n",
       "      <td>never</td>\n",
       "      <td>never</td>\n",
       "      <td>never</td>\n",
       "      <td>4~8</td>\n",
       "      <td>1~3</td>\n",
       "      <td>1</td>\n",
       "      <td>1</td>\n",
       "      <td>1</td>\n",
       "      <td>0</td>\n",
       "      <td>1</td>\n",
       "      <td>0</td>\n",
       "    </tr>\n",
       "    <tr>\n",
       "      <th>24</th>\n",
       "      <td>No Urgent Place</td>\n",
       "      <td>Friend(s)</td>\n",
       "      <td>Sunny</td>\n",
       "      <td>80</td>\n",
       "      <td>10AM</td>\n",
       "      <td>Bar</td>\n",
       "      <td>1d</td>\n",
       "      <td>Male</td>\n",
       "      <td>21</td>\n",
       "      <td>Single</td>\n",
       "      <td>0</td>\n",
       "      <td>Bachelors degree</td>\n",
       "      <td>Architecture &amp; Engineering</td>\n",
       "      <td>$62500 - $74999</td>\n",
       "      <td>do not drive</td>\n",
       "      <td>never</td>\n",
       "      <td>less1</td>\n",
       "      <td>4~8</td>\n",
       "      <td>4~8</td>\n",
       "      <td>less1</td>\n",
       "      <td>1</td>\n",
       "      <td>0</td>\n",
       "      <td>0</td>\n",
       "      <td>0</td>\n",
       "      <td>1</td>\n",
       "      <td>1</td>\n",
       "    </tr>\n",
       "    <tr>\n",
       "      <th>35</th>\n",
       "      <td>Home</td>\n",
       "      <td>Alone</td>\n",
       "      <td>Sunny</td>\n",
       "      <td>55</td>\n",
       "      <td>6PM</td>\n",
       "      <td>Bar</td>\n",
       "      <td>1d</td>\n",
       "      <td>Male</td>\n",
       "      <td>21</td>\n",
       "      <td>Single</td>\n",
       "      <td>0</td>\n",
       "      <td>Bachelors degree</td>\n",
       "      <td>Architecture &amp; Engineering</td>\n",
       "      <td>$62500 - $74999</td>\n",
       "      <td>do not drive</td>\n",
       "      <td>never</td>\n",
       "      <td>less1</td>\n",
       "      <td>4~8</td>\n",
       "      <td>4~8</td>\n",
       "      <td>less1</td>\n",
       "      <td>1</td>\n",
       "      <td>0</td>\n",
       "      <td>0</td>\n",
       "      <td>1</td>\n",
       "      <td>0</td>\n",
       "      <td>1</td>\n",
       "    </tr>\n",
       "  </tbody>\n",
       "</table>\n",
       "</div>"
      ],
      "text/plain": [
       "        destination  passanger weather  temperature  time coupon expiration  \\\n",
       "9   No Urgent Place     Kid(s)   Sunny           80  10AM    Bar         1d   \n",
       "13             Home      Alone   Sunny           55   6PM    Bar         1d   \n",
       "17             Work      Alone   Sunny           55   7AM    Bar         1d   \n",
       "24  No Urgent Place  Friend(s)   Sunny           80  10AM    Bar         1d   \n",
       "35             Home      Alone   Sunny           55   6PM    Bar         1d   \n",
       "\n",
       "    gender age      maritalStatus  has_children                 education  \\\n",
       "9   Female  21  Unmarried partner             1  Some college - no degree   \n",
       "13  Female  21  Unmarried partner             1  Some college - no degree   \n",
       "17  Female  21  Unmarried partner             1  Some college - no degree   \n",
       "24    Male  21             Single             0          Bachelors degree   \n",
       "35    Male  21             Single             0          Bachelors degree   \n",
       "\n",
       "                    occupation           income           car    Bar  \\\n",
       "9                   Unemployed  $37500 - $49999  do not drive  never   \n",
       "13                  Unemployed  $37500 - $49999  do not drive  never   \n",
       "17                  Unemployed  $37500 - $49999  do not drive  never   \n",
       "24  Architecture & Engineering  $62500 - $74999  do not drive  never   \n",
       "35  Architecture & Engineering  $62500 - $74999  do not drive  never   \n",
       "\n",
       "   CoffeeHouse CarryAway RestaurantLessThan20 Restaurant20To50  \\\n",
       "9        never     never                  4~8              1~3   \n",
       "13       never     never                  4~8              1~3   \n",
       "17       never     never                  4~8              1~3   \n",
       "24       less1       4~8                  4~8            less1   \n",
       "35       less1       4~8                  4~8            less1   \n",
       "\n",
       "    toCoupon_GEQ5min  toCoupon_GEQ15min  toCoupon_GEQ25min  direction_same  \\\n",
       "9                  1                  1                  0               0   \n",
       "13                 1                  0                  0               1   \n",
       "17                 1                  1                  1               0   \n",
       "24                 1                  0                  0               0   \n",
       "35                 1                  0                  0               1   \n",
       "\n",
       "    direction_opp  Y  \n",
       "9               1  0  \n",
       "13              0  1  \n",
       "17              1  0  \n",
       "24              1  1  \n",
       "35              0  1  "
      ]
     },
     "execution_count": 82,
     "metadata": {},
     "output_type": "execute_result"
    }
   ],
   "source": [
    "bar_coupons_data = data[data['coupon'] == 'Bar'].copy()\n",
    "bar_coupons_data.head()"
   ]
  },
  {
   "cell_type": "markdown",
   "metadata": {
    "id": "8ue6uCqf_qRJ"
   },
   "source": [
    "2. What proportion of bar coupons were accepted?\n"
   ]
  },
  {
   "cell_type": "code",
   "execution_count": 87,
   "metadata": {
    "id": "hSdte8Mi_qRK"
   },
   "outputs": [
    {
     "name": "stdout",
     "output_type": "stream",
     "text": [
      "0.41001487357461575\n"
     ]
    },
    {
     "data": {
      "text/plain": [
       "np.float64(0.41001487357461575)"
      ]
     },
     "execution_count": 87,
     "metadata": {},
     "output_type": "execute_result"
    }
   ],
   "source": [
    "# Percentage of records that chose to accept the coupon\n",
    "bar_accept_percentage = bar_coupons_data[bar_coupons_data.Y == 1].Y.count() / bar_coupons_data.Y.count()\n",
    "print(bar_accept_percentage)\n",
    "bar_coupons_data['Y'].mean()"
   ]
  },
  {
   "cell_type": "markdown",
   "metadata": {
    "id": "85nA_iEi_qRK"
   },
   "source": [
    "3. Compare the acceptance rate between those who went to a bar 3 or fewer times a month to those who went more.\n"
   ]
  },
  {
   "cell_type": "code",
   "execution_count": 94,
   "metadata": {
    "id": "LBOrN-XM_qRK"
   },
   "outputs": [
    {
     "name": "stdout",
     "output_type": "stream",
     "text": [
      "Coupon acceptance rate between those who went to a bar 3 or fewer times a month : 0.37073707370737075\n",
      "Coupon acceptance rate between those who went to a bar more than 3 times a month: 0.7688442211055276\n"
     ]
    }
   ],
   "source": [
    "# Bar: ['never' 'less1' '1~3' 'gt8' '4~8']\n",
    "target_values_lte_3 = ['never', 'less1', '1~3']\n",
    "target_values_gt_3 = ['4~8', 'gt8']\n",
    "acceptance_rate_lte_3 = bar_coupons_data[bar_coupons_data.Bar.isin(target_values_lte_3)].Y.mean()\n",
    "acceptance_rate_gt_3 = bar_coupons_data[bar_coupons_data.Bar.isin(target_values_gt_3)].Y.mean()\n",
    "\n",
    "print(f\"Coupon acceptance rate between those who went to a bar 3 or fewer times a month : {acceptance_rate_lte_3}\")\n",
    "print(f\"Coupon acceptance rate between those who went to a bar more than 3 times a month: {acceptance_rate_gt_3}\")\n"
   ]
  },
  {
   "cell_type": "markdown",
   "metadata": {
    "id": "RBgcQwH4_qRK"
   },
   "source": [
    "4. Compare the acceptance rate between drivers who go to a bar more than once a month and are over the age of 25 to the all others.  Is there a difference?\n"
   ]
  },
  {
   "cell_type": "code",
   "execution_count": 125,
   "metadata": {
    "id": "bf28bbeX_qRK"
   },
   "outputs": [
    {
     "name": "stdout",
     "output_type": "stream",
     "text": [
      "Coupon acceptance rate for those who go to a bar more than once a month and are over the age of 25 : 0.6952380952380952\n",
      "Coupon acceptance rate for all others but previous : 0.33500313087038197\n",
      "Coupon acceptance rate between those who went to a bar 3 or fewer times a month AND below 21 : 0.4512471655328798\n",
      "Coupon acceptance rate between those who went to a bar 3 or fewer times a month AND over 21 : 0.3449527959331881\n"
     ]
    }
   ],
   "source": [
    "# age: ['21' '46' '26' '31' '41' '50plus' '36' 'below21']\n",
    "a = bar_coupons_data.age.unique()\n",
    "target_values_age_below_25 = ['below21', '21']\n",
    "target_values_age_over_25 = list(set(a) - set(target_values_age_below_25))\n",
    "target_values_bar_gt_1m = ['1~3', '4~8', 'gt8']\n",
    "\n",
    "acceptance_rate_1 = bar_coupons_data[(bar_coupons_data.age.isin(target_values_age_over_25)) & (bar_coupons_data.Bar.isin(target_values_bar_gt_1m))].Y.mean()\n",
    "acceptance_rate_2 = bar_coupons_data[~((bar_coupons_data.age.isin(target_values_age_over_25)) & (bar_coupons_data.Bar.isin(target_values_bar_gt_1m)))].Y.mean()\n",
    "\n",
    "print(f\"Coupon acceptance rate for those who go to a bar more than once a month and are over the age of 25 : {acceptance_rate_1}\")\n",
    "print(f\"Coupon acceptance rate for all others but previous : {acceptance_rate_2}\")\n",
    "\n",
    "acceptance_rate_lte_3_A = bar_coupons_data[(bar_coupons_data.Bar.isin(target_values_lte_3)) & (bar_coupons_data.age.isin(target_values_age_below_25))].Y.mean()\n",
    "acceptance_rate_lte_3_B = bar_coupons_data[(bar_coupons_data.Bar.isin(target_values_lte_3)) & (bar_coupons_data.age.isin(target_values_age_over_25))].Y.mean()\n",
    "print(f\"Coupon acceptance rate between those who went to a bar 3 or fewer times a month AND below 21 : {acceptance_rate_lte_3_A}\")\n",
    "print(f\"Coupon acceptance rate between those who went to a bar 3 or fewer times a month AND over 21 : {acceptance_rate_lte_3_B}\")"
   ]
  },
  {
   "cell_type": "code",
   "execution_count": null,
   "metadata": {},
   "outputs": [],
   "source": []
  },
  {
   "cell_type": "markdown",
   "metadata": {
    "id": "S4RKT4PJ_qRK"
   },
   "source": [
    "5. Use the same process to compare the acceptance rate between drivers who go to bars more than once a month and had passengers that were not a kid and had occupations other than farming, fishing, or forestry.\n"
   ]
  },
  {
   "cell_type": "code",
   "execution_count": 127,
   "metadata": {
    "id": "sENaI2Tg_qRK"
   },
   "outputs": [
    {
     "name": "stdout",
     "output_type": "stream",
     "text": [
      "Acceptance rate for drivers who go to bars more than once a month: 0.6879194630872483\n",
      "Acceptance rate for same drivers when there is are no kids passengers: 0.7132486388384754\n",
      "Acceptance rate for same drivers when there is are no kids passengers AND were not occupied in fff: 0.7132486388384754\n"
     ]
    }
   ],
   "source": [
    "target_values_bar_gt_1m = ['1~3', '4~8', 'gt8']\n",
    "all_passengers = bar_coupons_data.passanger.unique()\n",
    "target_passengers = list(set(all_passengers) - set(['Kid(s)']))\n",
    "all_occupations = bar_coupons_data.occupation.unique()\n",
    "target_occupations = list(set(all_occupations) - set(['Farming Fishing & Forestry']))\n",
    "\n",
    "filter_group = (\n",
    "    bar_coupons_data.Bar.isin(target_values_bar_gt_1m) &\n",
    "    bar_coupons_data.passanger.isin(target_passengers) &\n",
    "    bar_coupons_data.occupation.isin(target_occupations)\n",
    ")\n",
    "\n",
    "acceptance_rate_bar_only = bar_coupons_data[bar_coupons_data.Bar.isin(target_values_bar_gt_1m)].Y.mean()\n",
    "acceptance_rate_bar_nokids = bar_coupons_data[(bar_coupons_data.Bar.isin(target_values_bar_gt_1m)) & (bar_coupons_data.passanger.isin(target_passengers))].Y.mean()\n",
    "acceptance_rate = bar_coupons_data[filter_group].Y.mean()\n",
    "\n",
    "print(f\"Acceptance rate for drivers who go to bars more than once a month: {acceptance_rate_bar_only}\")\n",
    "print(f\"Acceptance rate for same drivers when there is are no kids passengers: {acceptance_rate_bar_nokids}\")\n",
    "\n",
    "print(f\"Acceptance rate for same drivers when there is are no kids passengers AND were not occupied in fff: {acceptance_rate}\")\n"
   ]
  },
  {
   "cell_type": "code",
   "execution_count": 133,
   "metadata": {},
   "outputs": [
    {
     "data": {
      "text/plain": [
       "array(['never', 'less1'], dtype=object)"
      ]
     },
     "execution_count": 133,
     "metadata": {},
     "output_type": "execute_result"
    }
   ],
   "source": [
    "# Check the impact of fisheries occupation\n",
    "filter_group = (\n",
    "    bar_coupons_data.occupation.isin(['Farming Fishing & Forestry'])\n",
    ")\n",
    "bar_coupons_data[filter_group].Bar.unique()\n",
    "\n",
    "# Interestingly, those who work in Farming Fishing & Forestry visit a bar less than once a month. \n"
   ]
  },
  {
   "cell_type": "markdown",
   "metadata": {
    "id": "n2LIUTil_qRK"
   },
   "source": [
    "6. Compare the acceptance rates between those drivers who:\n",
    "\n",
    "- go to bars more than once a month, had passengers that were not a kid, and were not widowed *OR*\n",
    "- go to bars more than once a month and are under the age of 30 *OR*\n",
    "- go to cheap restaurants more than 4 times a month and income is less than 50K.\n",
    "\n"
   ]
  },
  {
   "cell_type": "code",
   "execution_count": 136,
   "metadata": {
    "id": "aK_wEzx7_qRK"
   },
   "outputs": [
    {
     "name": "stdout",
     "output_type": "stream",
     "text": [
      "Acceptance rate 0.5889175257731959\n",
      "\n",
      "Acceptance rate A 0.7132486388384754\n",
      "Acceptance rate B 0.7217391304347827\n",
      "Acceptance rate C 0.45348837209302323\n"
     ]
    }
   ],
   "source": [
    "# Bar Freq: more than once a month (1-3, 4-8, >8)\n",
    "high_bar_visits = ['1~3', '4~8', 'gt8'] \n",
    "\n",
    "# Age: under 30\n",
    "age_under_30 = ['below21', '21', '26']\n",
    "\n",
    "# Cheap Rest Freq: more than 4 times a month (4-8, >8)\n",
    "high_cheap_rest = ['4~8', 'gt8'] \n",
    "\n",
    "# Income: less than $50K\n",
    "low_income = [\n",
    "    'Less than $12500', \n",
    "    '$12500 - $24999', \n",
    "    '$25000 - $37499', \n",
    "    '$37500 - $49999'\n",
    "]\n",
    "\n",
    "# Filter Group A: High Bar Freq AND Not Kid Passenger AND Not Widowed\n",
    "filter_group_A = (\n",
    "    bar_coupons_data.Bar.isin(high_bar_visits) &\n",
    "    ~bar_coupons_data.passanger.isin(['Kid(s)']) &\n",
    "    ~bar_coupons_data.maritalStatus.isin(['Widowed'])\n",
    ")\n",
    "\n",
    "# Filter Group B: High Bar Freq AND Age < 30\n",
    "filter_group_B = (\n",
    "    bar_coupons_data['Bar'].isin(high_bar_visits) &\n",
    "    bar_coupons_data['age'].isin(age_under_30)\n",
    ")\n",
    "\n",
    "# Filter Group C: Cheap Rest Freq > 4/mo AND Income < $50K\n",
    "filter_group_C = (\n",
    "    bar_coupons_data['RestaurantLessThan20'].isin(high_cheap_rest) &\n",
    "    bar_coupons_data['income'].isin(low_income)\n",
    ")\n",
    "\n",
    "filter_group = filter_group_A | filter_group_B | filter_group_C\n",
    "\n",
    "acceptance_rate = bar_coupons_data[filter_group].Y.mean()\n",
    "\n",
    "acceptance_rate_A = bar_coupons_data[filter_group_A].Y.mean()\n",
    "acceptance_rate_B = bar_coupons_data[filter_group_B].Y.mean()\n",
    "acceptance_rate_C = bar_coupons_data[filter_group_C].Y.mean()\n",
    "\n",
    "print(f\"Acceptance rate {acceptance_rate}\")\n",
    "print()\n",
    "print(f\"Acceptance rate A {acceptance_rate_A}\")\n",
    "print(f\"Acceptance rate B {acceptance_rate_B}\")\n",
    "print(f\"Acceptance rate C {acceptance_rate_C}\")"
   ]
  },
  {
   "cell_type": "code",
   "execution_count": 137,
   "metadata": {},
   "outputs": [
    {
     "name": "stdout",
     "output_type": "stream",
     "text": [
      "Acceptance rate 0.7135231316725978\n"
     ]
    }
   ],
   "source": [
    "# Filter Group C: Cheap Rest Freq > 4/mo AND Income < $50K\n",
    "filter_group_C = (\n",
    "    bar_coupons_data['Bar'].isin(high_bar_visits) &\n",
    "    bar_coupons_data['RestaurantLessThan20'].isin(high_cheap_rest) &\n",
    "    bar_coupons_data['income'].isin(low_income)\n",
    ")\n",
    "filter_group = filter_group_A | filter_group_B | filter_group_C\n",
    "acceptance_rate = bar_coupons_data[filter_group].Y.mean()\n",
    "print(f\"Acceptance rate {acceptance_rate}\")"
   ]
  },
  {
   "cell_type": "markdown",
   "metadata": {
    "id": "v3fL3QkO_qRK"
   },
   "source": [
    "7.  Based on these observations, what do you hypothesize about drivers who accepted the bar coupons?"
   ]
  },
  {
   "cell_type": "code",
   "execution_count": 141,
   "metadata": {
    "id": "Y48naDFh_qRL"
   },
   "outputs": [
    {
     "name": "stdout",
     "output_type": "stream",
     "text": [
      "- The least acceptance is from those who frequent bars less than three times a month.\n",
      "- Interestingly, out of this lot, those who are younger (below 21) tend to accept the coupon more than those who are over 21.\n",
      "- Those who went to a bar more than three times a month had the highest acceptance rate of 76.88%\n",
      "- When we look at only those who visit a bar more than a month, the rate dropped to 69.52%\n",
      "- The acceptance rate went up when there are no kids passengers (to 71.32%)\n",
      "- Those who work in Farming Fishing & Forestry visit a bar less than once a month.\n",
      "- The acceptance rate was consistently higher when they visit a bar once a month or higher. Their marital status had no impact on the decision.\n",
      "- Amongst those who have high bar visits, those who were younger than 30 tend to accept the coupons more (72.1% vs 71.32%)\n",
      "- It might seem like those who go to cheap restraunts and earn less than 50k had a low acceptance rate but if we look at only those who have high bar visits, there is no skew.\n"
     ]
    }
   ],
   "source": [
    "# The least acceptance is from those who frequent bars less than three times a month. \n",
    "# Interestingly, out of this lot, those who are younger (below 21) tend to accept the coupon more than those who are over 21.\n",
    "# Those who went to a bar more than three times a month had the highest acceptance rate of 76.88%\n",
    "# When we look at only those who visit a bar more than a month, the rate dropped to 69.52%. This indicates a good size of drift exists when the visits go slightly over by 2.\n",
    "# The acceptance rate went up when there are no kids passengers (to 71.32%)\n",
    "# Those who work in Farming Fishing & Forestry visit a bar less than once a month.\n",
    "# The acceptance rate was consistently higher when they visit a bar once a month or higher. Their marital status had no impact on the decision.\n",
    "# Amongst those who have high bar visits, those who were younger than 30 tend to accept the coupons more (72.1% vs 71.32%)\n",
    "# It might seem like those who go to cheap restraunts and earn less than 50k had a low acceptance rate but if we look at only those who have high bar visits, there is no skew.\n",
    "\n",
    "print(\"- The least acceptance is from those who frequent bars less than three times a month.\")\n",
    "print(\"- Interestingly, out of this lot, those who are younger (below 21) tend to accept the coupon more than those who are over 21.\")\n",
    "print(\"- Those who went to a bar more than three times a month had the highest acceptance rate of 76.88%\")\n",
    "print(\"- When we look at only those who visit a bar more than a month, the rate dropped to 69.52%\")\n",
    "print(\"- The acceptance rate went up when there are no kids passengers (to 71.32%)\")\n",
    "print(\"- Those who work in Farming Fishing & Forestry visit a bar less than once a month.\")\n",
    "print(\"- The acceptance rate was consistently higher when they visit a bar once a month or higher. Their marital status had no impact on the decision.\")\n",
    "print(\"- Amongst those who have high bar visits, those who were younger than 30 tend to accept the coupons more (72.1% vs 71.32%)\")\n",
    "print(\"- It might seem like those who go to cheap restraunts and earn less than 50k had a low acceptance rate but if we look at only those who have high bar visits, there is no skew.\")\n"
   ]
  },
  {
   "cell_type": "markdown",
   "metadata": {
    "id": "r4Hu1zOb_qRL"
   },
   "source": [
    "### Independent Investigation\n",
    "\n",
    "Using the bar coupon example as motivation, you are to explore one of the other coupon groups and try to determine the characteristics of passengers who accept the coupons.  "
   ]
  },
  {
   "cell_type": "code",
   "execution_count": 144,
   "metadata": {
    "id": "0c71cQhu_qRL"
   },
   "outputs": [
    {
     "name": "stdout",
     "output_type": "stream",
     "text": [
      "destination: ['No Urgent Place' 'Home' 'Work']\n",
      "passanger: ['Alone' 'Friend(s)' 'Kid(s)' 'Partner']\n",
      "weather: ['Sunny' 'Rainy' 'Snowy']\n",
      "temperature: [55 80 30]\n",
      "time: ['2PM' '10AM' '6PM' '7AM' '10PM']\n",
      "coupon: ['Restaurant(<20)' 'Coffee House' 'Carry out & Take away' 'Bar'\n",
      " 'Restaurant(20-50)']\n",
      "expiration: ['1d' '2h']\n",
      "gender: ['Female' 'Male']\n",
      "age: ['21' '46' '26' '31' '41' '50plus' '36' 'below21']\n",
      "maritalStatus: ['Unmarried partner' 'Single' 'Married partner' 'Divorced' 'Widowed']\n",
      "has_children: [1 0]\n",
      "education: ['Some college - no degree' 'Bachelors degree' 'Associates degree'\n",
      " 'High School Graduate' 'Graduate degree (Masters or Doctorate)'\n",
      " 'Some High School']\n",
      "occupation: ['Unemployed' 'Architecture & Engineering' 'Student'\n",
      " 'Education&Training&Library' 'Healthcare Support'\n",
      " 'Healthcare Practitioners & Technical' 'Sales & Related' 'Management'\n",
      " 'Arts Design Entertainment Sports & Media' 'Computer & Mathematical'\n",
      " 'Life Physical Social Science' 'Personal Care & Service'\n",
      " 'Community & Social Services' 'Office & Administrative Support'\n",
      " 'Construction & Extraction' 'Legal' 'Retired'\n",
      " 'Installation Maintenance & Repair' 'Transportation & Material Moving'\n",
      " 'Business & Financial' 'Protective Service'\n",
      " 'Food Preparation & Serving Related' 'Production Occupations'\n",
      " 'Building & Grounds Cleaning & Maintenance' 'Farming Fishing & Forestry']\n",
      "income: ['$37500 - $49999' '$62500 - $74999' '$12500 - $24999' '$75000 - $87499'\n",
      " '$50000 - $62499' '$25000 - $37499' '$100000 or More' '$87500 - $99999'\n",
      " 'Less than $12500']\n",
      "car: ['do not drive' 'Scooter and motorcycle' 'crossover' 'Mazda5'\n",
      " 'Car that is too old to install Onstar :D']\n",
      "Bar: ['never' 'less1' '1~3' 'gt8' '4~8']\n",
      "CoffeeHouse: ['never' 'less1' '4~8' '1~3' 'gt8']\n",
      "CarryAway: ['never' '4~8' '1~3' 'gt8' 'less1']\n",
      "RestaurantLessThan20: ['4~8' '1~3' 'less1' 'gt8' 'never']\n",
      "Restaurant20To50: ['1~3' 'less1' 'never' 'gt8' '4~8']\n",
      "toCoupon_GEQ5min: [1]\n",
      "toCoupon_GEQ15min: [0 1]\n",
      "toCoupon_GEQ25min: [0 1]\n",
      "direction_same: [0 1]\n",
      "direction_opp: [1 0]\n",
      "Y: [1 0]\n"
     ]
    }
   ],
   "source": [
    "# Check if the data is of right datatype\n",
    "data.has_children.unique()\n",
    "for col in data.columns:\n",
    "    print(f\"{col}: {data[col].unique()}\")"
   ]
  },
  {
   "cell_type": "code",
   "execution_count": 143,
   "metadata": {
    "id": "QEsBkvIN_qRL"
   },
   "outputs": [
    {
     "data": {
      "image/png": "[encoded data removed]",
      "text/plain": [
       "<Figure size 1000x600 with 1 Axes>"
      ]
     },
     "metadata": {},
     "output_type": "display_data"
    }
   ],
   "source": [
    "# 1. Calculate the acceptance rate (mean of Y) for each coupon type\n",
    "acceptance_rates = data.groupby('coupon')['Y'].mean().sort_values(ascending=False).reset_index()\n",
    "acceptance_rates.columns = ['Coupon Type', 'Acceptance Rate']\n",
    "\n",
    "# Convert rate to percentage for better display\n",
    "acceptance_rates['Acceptance Rate (%)'] = acceptance_rates['Acceptance Rate'] * 100\n",
    "\n",
    "# 2. Generate the bar chart (horizontal for better label reading)\n",
    "plt.figure(figsize=(10, 6))\n",
    "ax = sns.barplot(\n",
    "    x='Acceptance Rate (%)', \n",
    "    y='Coupon Type', \n",
    "    data=acceptance_rates, \n",
    "    palette='viridis',\n",
    "    # FIX: Assign the y-variable to 'hue' to avoid the deprecation warning\n",
    "    hue='Coupon Type' \n",
    ")\n",
    "\n",
    "\n",
    "# Add titles and labels\n",
    "plt.title('Coupon Acceptance Rates Across All Coupon Types')\n",
    "plt.xlabel('Acceptance Rate (%)')\n",
    "plt.ylabel('Coupon Type')\n",
    "\n",
    "# Add the percentage values on the bars\n",
    "for p in ax.patches:\n",
    "    ax.annotate(\n",
    "        f'{p.get_width():.2f}%', \n",
    "        (p.get_width() + 1, p.get_y() + p.get_height() / 2.), \n",
    "        ha='left', \n",
    "        va='center', \n",
    "        color='black'\n",
    "    )\n",
    "\n",
    "plt.xlim(0, 100) # Set x-limit to 0-100%\n",
    "plt.grid(axis='x', linestyle='--', alpha=0.7)\n",
    "plt.tight_layout()"
   ]
  },
  {
   "cell_type": "code",
   "execution_count": 145,
   "metadata": {
    "id": "fTC2WGE3_qRL"
   },
   "outputs": [],
   "source": [
    "takeaway_coupons_data = data[data['coupon'] == 'Carry out & Take away'].copy()"
   ]
  },
  {
   "cell_type": "code",
   "execution_count": 149,
   "metadata": {
    "id": "RrqUWn7d_qRL"
   },
   "outputs": [
    {
     "name": "stdout",
     "output_type": "stream",
     "text": [
      "Count of Takeaway Coupons Grouped by CarryAway Visit Frequency:\n",
      "| CarryAway Frequency   | Count   |\n",
      "|:----------------------|:--------|\n",
      "| 1~3                   | 864     |\n",
      "| 4~8                   | 820     |\n",
      "| less1                 | 353     |\n",
      "| gt8                   | 302     |\n",
      "| never                 | 54      |\n"
     ]
    }
   ],
   "source": [
    "carryaway_counts = takeaway_coupons_data['CarryAway'].value_counts(dropna=False).reset_index()\n",
    "carryaway_counts.columns = ['CarryAway Frequency', 'Count']\n",
    "\n",
    "print(\"Count of Takeaway Coupons Grouped by CarryAway Visit Frequency:\")\n",
    "print(carryaway_counts.to_markdown(index=False, numalign=\"left\", stralign=\"left\"))"
   ]
  },
  {
   "cell_type": "code",
   "execution_count": 154,
   "metadata": {
    "id": "_oykf8YP_qRL"
   },
   "outputs": [
    {
     "data": {
      "text/html": [
       "<div>\n",
       "<style scoped>\n",
       "    .dataframe tbody tr th:only-of-type {\n",
       "        vertical-align: middle;\n",
       "    }\n",
       "\n",
       "    .dataframe tbody tr th {\n",
       "        vertical-align: top;\n",
       "    }\n",
       "\n",
       "    .dataframe thead th {\n",
       "        text-align: right;\n",
       "    }\n",
       "</style>\n",
       "<table border=\"1\" class=\"dataframe\">\n",
       "  <thead>\n",
       "    <tr style=\"text-align: right;\">\n",
       "      <th></th>\n",
       "      <th>toCoupon_GEQ5min</th>\n",
       "      <th>toCoupon_GEQ15min</th>\n",
       "      <th>toCoupon_GEQ25min</th>\n",
       "      <th>direction_same</th>\n",
       "      <th>direction_opp</th>\n",
       "      <th>Y</th>\n",
       "    </tr>\n",
       "  </thead>\n",
       "  <tbody>\n",
       "    <tr>\n",
       "      <th>4017</th>\n",
       "      <td>1</td>\n",
       "      <td>1</td>\n",
       "      <td>1</td>\n",
       "      <td>0</td>\n",
       "      <td>1</td>\n",
       "      <td>0</td>\n",
       "    </tr>\n",
       "    <tr>\n",
       "      <th>4039</th>\n",
       "      <td>1</td>\n",
       "      <td>1</td>\n",
       "      <td>1</td>\n",
       "      <td>0</td>\n",
       "      <td>1</td>\n",
       "      <td>1</td>\n",
       "    </tr>\n",
       "    <tr>\n",
       "      <th>4061</th>\n",
       "      <td>1</td>\n",
       "      <td>1</td>\n",
       "      <td>1</td>\n",
       "      <td>0</td>\n",
       "      <td>1</td>\n",
       "      <td>1</td>\n",
       "    </tr>\n",
       "    <tr>\n",
       "      <th>4083</th>\n",
       "      <td>1</td>\n",
       "      <td>1</td>\n",
       "      <td>1</td>\n",
       "      <td>0</td>\n",
       "      <td>1</td>\n",
       "      <td>1</td>\n",
       "    </tr>\n",
       "    <tr>\n",
       "      <th>4105</th>\n",
       "      <td>1</td>\n",
       "      <td>1</td>\n",
       "      <td>1</td>\n",
       "      <td>0</td>\n",
       "      <td>1</td>\n",
       "      <td>0</td>\n",
       "    </tr>\n",
       "    <tr>\n",
       "      <th>...</th>\n",
       "      <td>...</td>\n",
       "      <td>...</td>\n",
       "      <td>...</td>\n",
       "      <td>...</td>\n",
       "      <td>...</td>\n",
       "      <td>...</td>\n",
       "    </tr>\n",
       "    <tr>\n",
       "      <th>12383</th>\n",
       "      <td>1</td>\n",
       "      <td>1</td>\n",
       "      <td>1</td>\n",
       "      <td>0</td>\n",
       "      <td>1</td>\n",
       "      <td>1</td>\n",
       "    </tr>\n",
       "    <tr>\n",
       "      <th>12471</th>\n",
       "      <td>1</td>\n",
       "      <td>1</td>\n",
       "      <td>1</td>\n",
       "      <td>0</td>\n",
       "      <td>1</td>\n",
       "      <td>1</td>\n",
       "    </tr>\n",
       "    <tr>\n",
       "      <th>12537</th>\n",
       "      <td>1</td>\n",
       "      <td>1</td>\n",
       "      <td>1</td>\n",
       "      <td>0</td>\n",
       "      <td>1</td>\n",
       "      <td>0</td>\n",
       "    </tr>\n",
       "    <tr>\n",
       "      <th>12581</th>\n",
       "      <td>1</td>\n",
       "      <td>1</td>\n",
       "      <td>1</td>\n",
       "      <td>0</td>\n",
       "      <td>1</td>\n",
       "      <td>1</td>\n",
       "    </tr>\n",
       "    <tr>\n",
       "      <th>12603</th>\n",
       "      <td>1</td>\n",
       "      <td>1</td>\n",
       "      <td>1</td>\n",
       "      <td>0</td>\n",
       "      <td>1</td>\n",
       "      <td>1</td>\n",
       "    </tr>\n",
       "  </tbody>\n",
       "</table>\n",
       "<p>265 rows × 6 columns</p>\n",
       "</div>"
      ],
      "text/plain": [
       "       toCoupon_GEQ5min  toCoupon_GEQ15min  toCoupon_GEQ25min  direction_same  \\\n",
       "4017                  1                  1                  1               0   \n",
       "4039                  1                  1                  1               0   \n",
       "4061                  1                  1                  1               0   \n",
       "4083                  1                  1                  1               0   \n",
       "4105                  1                  1                  1               0   \n",
       "...                 ...                ...                ...             ...   \n",
       "12383                 1                  1                  1               0   \n",
       "12471                 1                  1                  1               0   \n",
       "12537                 1                  1                  1               0   \n",
       "12581                 1                  1                  1               0   \n",
       "12603                 1                  1                  1               0   \n",
       "\n",
       "       direction_opp  Y  \n",
       "4017               1  0  \n",
       "4039               1  1  \n",
       "4061               1  1  \n",
       "4083               1  1  \n",
       "4105               1  0  \n",
       "...              ... ..  \n",
       "12383              1  1  \n",
       "12471              1  1  \n",
       "12537              1  0  \n",
       "12581              1  1  \n",
       "12603              1  1  \n",
       "\n",
       "[265 rows x 6 columns]"
      ]
     },
     "execution_count": 154,
     "metadata": {},
     "output_type": "execute_result"
    }
   ],
   "source": [
    "test = takeaway_coupons_data[\n",
    "    ['toCoupon_GEQ5min', 'toCoupon_GEQ15min', 'toCoupon_GEQ25min', 'direction_same', 'direction_opp', 'Y']\n",
    "]\n",
    "test[test.toCoupon_GEQ25min == 1]"
   ]
  },
  {
   "cell_type": "markdown",
   "metadata": {
    "id": "r4Hu1zOb_qRL"
   },
   "source": [
    "### Find rejection rate by weather\n",
    "\n",
    "Check the impact of rejection rate based on the weather of the day. "
   ]
  },
  {
   "cell_type": "code",
   "execution_count": 156,
   "metadata": {},
   "outputs": [
    {
     "name": "stdout",
     "output_type": "stream",
     "text": [
      "--- Rejection Rate by Weather ---\n",
      "| Factor   | Rejection Rate   | Rejection Rate (%)   |\n",
      "|:---------|:-----------------|:---------------------|\n",
      "| Rainy    | 0.388715         | 38.8715              |\n",
      "| Snowy    | 0.29316          | 29.316               |\n",
      "| Sunny    | 0.237125         | 23.7125              |\n"
     ]
    }
   ],
   "source": [
    "# --- 1. Rejection Rate by Weather ---\n",
    "rejection_by_weather_df = (\n",
    "    (1 - takeaway_coupons_data.groupby('weather')['Y'].mean())\n",
    "    .sort_values(ascending=False)\n",
    "    .reset_index()\n",
    ")\n",
    "rejection_by_weather_df.columns = ['Factor', 'Rejection Rate']\n",
    "rejection_by_weather_df['Rejection Rate (%)'] = rejection_by_weather_df['Rejection Rate'] * 100\n",
    "\n",
    "print(\"--- Rejection Rate by Weather ---\")\n",
    "print(rejection_by_weather_df.to_markdown(index=False, numalign=\"left\", stralign=\"left\"))\n"
   ]
  },
  {
   "cell_type": "markdown",
   "metadata": {
    "id": "r4Hu1zOb_qRL"
   },
   "source": [
    "### Find rejection rate by the direction of commute\n",
    "\n",
    "Check if the coupon destination being in the same direction of travel has any impact on rejection rate "
   ]
  },
  {
   "cell_type": "code",
   "execution_count": 157,
   "metadata": {},
   "outputs": [
    {
     "name": "stdout",
     "output_type": "stream",
     "text": [
      "\n",
      "--- Rejection Rate by Direction ---\n",
      "| Same Direction (1=Yes, 0=No)   | Rejection Rate   | Rejection Rate (%)   |\n",
      "|:-------------------------------|:-----------------|:---------------------|\n",
      "| 0                              | 0.24875          | 24.875               |\n",
      "| 1                              | 0.296343         | 29.6343              |\n"
     ]
    }
   ],
   "source": [
    "# --- 2. Rejection Rate by Direction (Same Direction vs. Opposite Direction) ---\n",
    "rejection_by_direction_df = (\n",
    "    (1 - takeaway_coupons_data.groupby('direction_same')['Y'].mean())\n",
    "    .reset_index()\n",
    ")\n",
    "rejection_by_direction_df.columns = ['Same Direction (1=Yes, 0=No)', 'Rejection Rate']\n",
    "rejection_by_direction_df['Rejection Rate (%)'] = rejection_by_direction_df['Rejection Rate'] * 100\n",
    "\n",
    "print(\"\\n--- Rejection Rate by Direction ---\")\n",
    "print(rejection_by_direction_df.to_markdown(index=False, numalign=\"left\", stralign=\"left\"))\n"
   ]
  },
  {
   "cell_type": "markdown",
   "metadata": {
    "id": "r4Hu1zOb_qRL"
   },
   "source": [
    "### Find rejection rate by time to reach coupon destination for ALL the coupons\n",
    "\n",
    "Check if the time to reach coupon destination has any impact on rejection rate "
   ]
  },
  {
   "cell_type": "code",
   "execution_count": 169,
   "metadata": {},
   "outputs": [
    {
     "name": "stdout",
     "output_type": "stream",
     "text": [
      "\n",
      "--- Rejection Rate by Time/Distance (1=Yes, 0=No) ---\n",
      "| Time >= 5min   | Time >= 15min   | Time >= 25min   | Rejection Rate   | Rejection Rate (%)   |\n",
      "|:---------------|:----------------|:----------------|:-----------------|:---------------------|\n",
      "| 1              | 1               | 1               | 0.571145         | 57.1145              |\n",
      "| 1              | 1               | 0               | 0.439316         | 43.9316              |\n",
      "| 1              | 0               | 0               | 0.385832         | 38.5832              |\n"
     ]
    }
   ],
   "source": [
    "# --- 3. Rejection Rate by Time/Distance Flags ---\n",
    "time_cols = ['toCoupon_GEQ5min', 'toCoupon_GEQ15min', 'toCoupon_GEQ25min']\n",
    "rejection_by_time_df = (\n",
    "    (1 - data.groupby(time_cols)['Y'].mean())\n",
    "    .reset_index()\n",
    "    .sort_values(ascending=False, by='Y')\n",
    ")\n",
    "# Fix: Provide 4 column names to match the 4 columns in the DataFrame\n",
    "rejection_by_time_df.columns = ['Time >= 5min', 'Time >= 15min', 'Time >= 25min', 'Rejection Rate']\n",
    "rejection_by_time_df['Rejection Rate (%)'] = rejection_by_time_df['Rejection Rate'] * 100\n",
    "\n",
    "print(\"\\n--- Rejection Rate by Time/Distance (1=Yes, 0=No) ---\")\n",
    "print(rejection_by_time_df.to_markdown(index=False, numalign=\"left\", stralign=\"left\"))"
   ]
  },
  {
   "cell_type": "code",
   "execution_count": 163,
   "metadata": {},
   "outputs": [
    {
     "name": "stdout",
     "output_type": "stream",
     "text": [
      "Coupon Rejection Rates by Time of Day:\n",
      "| Time Slot                    | Count   | Rejection Rate (%)   |\n",
      "|:-----------------------------|:--------|:---------------------|\n",
      "| Morning/Day (7AM, 10AM, 2PM) | 1497    | 29.7929              |\n",
      "| Evening/Night (6PM, 10PM)    | 896     | 20.8705              |\n"
     ]
    }
   ],
   "source": [
    "# --- Define Time Slots ---\n",
    "# Morning/Day: 7AM, 10AM, 2PM\n",
    "time_morning_day = ['7AM', '10AM', '2PM']\n",
    "# Evening/Night: 6PM, 10PM\n",
    "time_evening_night = ['6PM', '10PM']\n",
    "\n",
    "# Calculate Rejection Rate for Morning/Day Group\n",
    "mask_morning = data['time'].isin(time_morning_day)\n",
    "rejection_rate_morning = 1 - takeaway_coupons_data[mask_morning]['Y'].mean()\n",
    "\n",
    "# Calculate Rejection Rate for Evening/Night Group\n",
    "mask_evening = takeaway_coupons_data['time'].isin(time_evening_night)\n",
    "rejection_rate_evening = 1 - takeaway_coupons_data[mask_evening]['Y'].mean()\n",
    "\n",
    "# 3. Compile and print results\n",
    "data = {\n",
    "    'Time Slot': ['Morning/Day (7AM, 10AM, 2PM)', 'Evening/Night (6PM, 10PM)'],\n",
    "    'Count': [mask_morning.sum(), mask_evening.sum()],\n",
    "    'Rejection Rate': [rejection_rate_morning, rejection_rate_evening]\n",
    "}\n",
    "rejection_df = pd.DataFrame(data)\n",
    "rejection_df['Rejection Rate (%)'] = rejection_df['Rejection Rate'] * 100\n",
    "\n",
    "print(\"Coupon Rejection Rates by Time of Day:\")\n",
    "print(rejection_df[['Time Slot', 'Count', 'Rejection Rate (%)']].to_markdown(index=False, numalign=\"left\", stralign=\"left\"))"
   ]
  },
  {
   "cell_type": "code",
   "execution_count": null,
   "metadata": {},
   "outputs": [],
   "source": []
  },
  {
   "cell_type": "code",
   "execution_count": null,
   "metadata": {},
   "outputs": [],
   "source": []
  }
 ],
 "metadata": {
  "colab": {
   "provenance": []
  },
  "kernelspec": {
   "display_name": "Python [conda env:base] *",
   "language": "python",
   "name": "conda-base-py"
  },
  "language_info": {
   "codemirror_mode": {
    "name": "ipython",
    "version": 3
   },
   "file_extension": ".py",
   "mimetype": "text/x-python",
   "name": "python",
   "nbconvert_exporter": "python",
   "pygments_lexer": "ipython3",
   "version": "3.13.5"
  }
 },
 "nbformat": 4,
 "nbformat_minor": 4
}
